{
 "cells": [
  {
   "cell_type": "markdown",
   "metadata": {},
   "source": [
    "# Projeto Final\n",
    "## Nanodegree Engenheiro de Machine Learning\n",
    "\n",
    "Neste projeto vamos treinar um algoritmo para classificar acordes de acordo com sua nota fundamental. Trabalharemos com áudios no formato `wav` e usaremos a biblioteca [LibROSA](http://librosa.github.io/librosa/) para extrair deles alguns atributos.\n",
    "\n",
    "Para mais detalhes sobre o projeto, leia o relatório que encontra-se no mesmo diretório deste notebook.\n",
    "\n",
    "### Carregando o conjunto de dados\n",
    "Os acordes gravados em arquivos `wav` estão na pasta `code/data`. Vamos criar uma função que retorna dois arrays, um com o caminho para cada acorde e outro com a respectiva nota fundamental.\n"
   ]
  },
  {
   "cell_type": "code",
   "execution_count": 1,
   "metadata": {
    "collapsed": false
   },
   "outputs": [
    {
     "name": "stderr",
     "output_type": "stream",
     "text": [
      "/Users/marcosatanaka/anaconda/lib/python2.7/site-packages/sklearn/cross_validation.py:44: DeprecationWarning: This module was deprecated in version 0.18 in favor of the model_selection module into which all the refactored classes and functions are moved. Also note that the interface of the new CV iterators are different from that of this module. This module will be removed in 0.20.\n",
      "  \"This module will be removed in 0.20.\", DeprecationWarning)\n",
      "/Users/marcosatanaka/anaconda/lib/python2.7/site-packages/sklearn/grid_search.py:43: DeprecationWarning: This module was deprecated in version 0.18 in favor of the model_selection module into which all the refactored classes and functions are moved. This module will be removed in 0.20.\n",
      "  DeprecationWarning)\n"
     ]
    }
   ],
   "source": [
    "# Todos os imports\n",
    "\n",
    "import glob\n",
    "\n",
    "import numpy as np\n",
    "import sklearn\n",
    "import librosa\n",
    "import librosa.display\n",
    "import matplotlib.pyplot as plt\n",
    "from sklearn.grid_search import GridSearchCV\n",
    "from sklearn.metrics import accuracy_score\n",
    "from sklearn.metrics import make_scorer\n",
    "from sklearn.model_selection import cross_val_score\n",
    "\n",
    "from sklearn.naive_bayes import GaussianNB\n",
    "from sklearn.svm import SVC\n",
    "from sklearn.tree import DecisionTreeClassifier\n",
    "from sklearn.ensemble import AdaBoostClassifier\n",
    "\n",
    "from pprint import pprint"
   ]
  },
  {
   "cell_type": "markdown",
   "metadata": {},
   "source": [
    "Montando arrays com o path de cada acorde e sua respectiva nota fundamental:"
   ]
  },
  {
   "cell_type": "code",
   "execution_count": 2,
   "metadata": {
    "collapsed": true
   },
   "outputs": [],
   "source": [
    "def get_chord_paths_and_labels():\n",
    "    x = []\n",
    "    y = []\n",
    "\n",
    "    for file_name in glob.glob1(\"code/data\", \"*.wav\"):\n",
    "        x.append(\"code/data/\" + file_name)\n",
    "        y.append(file_name[0])\n",
    "    \n",
    "    return x, y"
   ]
  },
  {
   "cell_type": "markdown",
   "metadata": {},
   "source": [
    "Teste e visualização do que foi lido:"
   ]
  },
  {
   "cell_type": "code",
   "execution_count": 3,
   "metadata": {
    "collapsed": false
   },
   "outputs": [
    {
     "name": "stdout",
     "output_type": "stream",
     "text": [
      "Encontrados 106 arquivos no conjunto de dados.\n",
      "\n",
      "Primeiros 5 arquivos:\n",
      "['code/data/A.wav',\n",
      " 'code/data/A6.wav',\n",
      " 'code/data/A7.wav',\n",
      " 'code/data/A7sus4.wav',\n",
      " 'code/data/A7sus4_2.wav']\n",
      "\n",
      "Primeiros 5 labels:\n",
      "['A', 'A', 'A', 'A', 'A']\n"
     ]
    }
   ],
   "source": [
    "x_all, y_all = get_chord_paths_and_labels()\n",
    "\n",
    "print \"Encontrados {} arquivos no conjunto de dados.\\n\".format(len(x_all))\n",
    "\n",
    "print \"Primeiros 5 arquivos:\"\n",
    "pprint(x_all[:5])\n",
    "\n",
    "print \"\\nPrimeiros 5 labels:\"\n",
    "pprint(y_all[:5])"
   ]
  },
  {
   "cell_type": "markdown",
   "metadata": {},
   "source": [
    "### Extraindo os atributos\n",
    "Agora criaremos uma função para extrair os atributos que servirão de entrada para os algoritmos. A biblioteca LibROSA, carrega o arquivo `wav` e extrai o chromagrama.\n",
    "\n",
    "Obtemos um array com 12 posições. Em cada posição há outro array, que contém o chroma daquele áudio em vários instantes de tempo (conforme seu `sample_rate`):"
   ]
  },
  {
   "cell_type": "code",
   "execution_count": 4,
   "metadata": {
    "collapsed": true
   },
   "outputs": [],
   "source": [
    "def get_chroma(sound_path):\n",
    "    audio_time_series, sample_rate = librosa.load(sound_path)\n",
    "    stft = np.abs(librosa.stft(audio_time_series))\n",
    "\n",
    "    # chroma_stft: retorna a quantidade de cada chroma a cada frame\n",
    "    # [00] 0.3, 0.3, 0.4\n",
    "    # [01] 0.7, 0.7, 0.6\n",
    "    # ...\n",
    "    # [12] 0.0, 0.0, 0.0\n",
    "    #\n",
    "    # fazemos transpose e media para obter a media de cada chroma\n",
    "    # [00] 0.3\n",
    "    # [01] 0.6\n",
    "    # ...\n",
    "    # [12] 0.0\n",
    "    return np.mean(librosa.feature.chroma_stft(S=stft, sr=sample_rate).T, axis=0)"
   ]
  },
  {
   "cell_type": "markdown",
   "metadata": {},
   "source": [
    "Calculamos a média de cada array para obter a ocorrência média de cada nota naquele acorde. O resultado final é um array com 12 posições, uma para cada nota, cujo valor é o percentual de presença daquela nota no acorde.\n",
    "\n",
    "Veja abaixo, um exemplo do chromagrama do acorde E6 deste conjunto de dados:"
   ]
  },
  {
   "cell_type": "code",
   "execution_count": 5,
   "metadata": {
    "collapsed": false
   },
   "outputs": [
    {
     "name": "stdout",
     "output_type": "stream",
     "text": [
      "C : 0.15\n",
      "C#: 0.19\n",
      "D : 0.10\n",
      "D#: 0.36\n",
      "E : 0.95\n",
      "F : 0.34\n",
      "F#: 0.07\n",
      "G : 0.16\n",
      "G#: 0.44\n",
      "A : 0.14\n",
      "A#: 0.18\n",
      "B : 0.45\n"
     ]
    }
   ],
   "source": [
    "e6_chroma = get_chroma(x_all[57])\n",
    "notes = ['C ', 'C#', 'D ', 'D#', 'E ', 'F ', 'F#', 'G ', 'G#', 'A ', 'A#', 'B ']\n",
    "\n",
    "for i, chroma in enumerate(e6_chroma):\n",
    "    print \"{}: {:.2f}\".format(notes[i], chroma)"
   ]
  },
  {
   "cell_type": "markdown",
   "metadata": {},
   "source": [
    "Utilizando a função anterior, implementamos outra para extrair o chroma de todos os acordes lidos e retornar tudo em um array. Este array contém todos os  atributos que serão utilizados para treinar os algoritmos:"
   ]
  },
  {
   "cell_type": "code",
   "execution_count": 6,
   "metadata": {
    "collapsed": true
   },
   "outputs": [],
   "source": [
    "def get_features(sounds_paths):\n",
    "    features = np.empty((0, 12))\n",
    "\n",
    "    for sound_path in sounds_paths:\n",
    "        try:\n",
    "            chroma = get_chroma(sound_path)\n",
    "        except Exception as e:\n",
    "            print \"Error encountered while parsing file: \", sound_path\n",
    "            raise\n",
    "\n",
    "        ext_features = np.hstack([chroma])\n",
    "        features = np.vstack([features, ext_features])\n",
    "\n",
    "    return np.array(features)"
   ]
  },
  {
   "cell_type": "markdown",
   "metadata": {},
   "source": [
    "### Visualizando os dados\n",
    "Vamos criar algumas funções auxiliares para nos ajudar a visualizar os dados.\n",
    "\n",
    "Primeiro vamos visualizar a forma de onda dos acordes no nosso conjunto de dados:"
   ]
  },
  {
   "cell_type": "code",
   "execution_count": 7,
   "metadata": {
    "collapsed": true
   },
   "outputs": [],
   "source": [
    "def plot_wave(sound_path):\n",
    "    plt.figure(figsize=(15, 4), dpi=300)\n",
    "    audio_time_series, sample_rate = librosa.load(sound_path)\n",
    "    librosa.display.waveplot(np.array(audio_time_series), sr=22050)\n",
    "    plt.title(sound_path)\n",
    "    plt.show()"
   ]
  },
  {
   "cell_type": "code",
   "execution_count": 8,
   "metadata": {
    "collapsed": false
   },
   "outputs": [
    {
     "data": {
      "image/png": "[encoded data removed]",
      "text/plain": [
       "<matplotlib.figure.Figure at 0x1044c3d90>"
      ]
     },
     "metadata": {},
     "output_type": "display_data"
    }
   ],
   "source": [
    "plot_wave(x_all[57])"
   ]
  },
  {
   "cell_type": "markdown",
   "metadata": {},
   "source": [
    "Agora, vamos visualizar o chromagrama:"
   ]
  },
  {
   "cell_type": "code",
   "execution_count": 9,
   "metadata": {
    "collapsed": true
   },
   "outputs": [],
   "source": [
    "def plot_chromagram(sound_path):\n",
    "    plt.figure(figsize=(15, 4), dpi=300)\n",
    "    audio_time_series, sample_rate = librosa.load(sound_path)\n",
    "    stft = np.abs(librosa.stft(audio_time_series))\n",
    "    chroma = librosa.feature.chroma_stft(S=stft, sr=sample_rate)\n",
    "    librosa.display.specshow(chroma, y_axis='chroma', x_axis='time')\n",
    "    plt.colorbar()\n",
    "    plt.title(sound_path)\n",
    "    plt.show()"
   ]
  },
  {
   "cell_type": "code",
   "execution_count": 10,
   "metadata": {
    "collapsed": false
   },
   "outputs": [
    {
     "data": {
      "image/png": "[encoded data removed]",
      "text/plain": [
       "<matplotlib.figure.Figure at 0x10fe63750>"
      ]
     },
     "metadata": {},
     "output_type": "display_data"
    }
   ],
   "source": [
    "plot_chromagram(x_all[57])"
   ]
  },
  {
   "cell_type": "markdown",
   "metadata": {},
   "source": [
    "### Treinando e testando os algoritmos\n",
    "\n",
    "Temos agora que instanciar, treinar e testar os algoritmos escolhidos.\n",
    "\n",
    "Mas antes, vamos escrever uma função para encontrar os melhores hiper-parâmetros de alguns deles:"
   ]
  },
  {
   "cell_type": "code",
   "execution_count": 11,
   "metadata": {
    "collapsed": true
   },
   "outputs": [],
   "source": [
    "def best_estimator(clf, parameters, x_train, y_train):\n",
    "    scorer = make_scorer(accuracy_score)\n",
    "\n",
    "    grid_obj = GridSearchCV(clf, parameters, scoring=scorer)\n",
    "\n",
    "    grid_obj = grid_obj.fit(x_train, y_train)\n",
    "\n",
    "    print \"Melhores parametros: {}\".format(grid_obj.best_params_)\n",
    "\n",
    "    # Get the estimator\n",
    "    return grid_obj.best_estimator_"
   ]
  },
  {
   "cell_type": "markdown",
   "metadata": {},
   "source": [
    "Agora uma função responsável por instanciar os algoritmos escolhidos, otimizar seus parâmetros, treiná-los e testá-los.\n",
    "\n",
    "Foram comparados os algoritmos SVM, Gaussian Naive Bays, Decision Tree e Ada Boost. O primeiro e o terceiro tiveram seus hiper-parâmetros escolhidos utilizando GridSearch.\n",
    "\n",
    "O treinamento e teste foi feito utilizando validação cruzada."
   ]
  },
  {
   "cell_type": "code",
   "execution_count": 12,
   "metadata": {
    "collapsed": true
   },
   "outputs": [],
   "source": [
    "def cross_validation_score(x_all, y_all, n_cv):\n",
    "    # SVM\n",
    "    clf = SVC(random_state=1)\n",
    "    parameters = [\n",
    "        {'kernel': ['linear'], 'C': np.arange(0.1, 1, 0.1)},\n",
    "        {'kernel': ['rbf'], 'C': np.arange(0.1, 1, 0.1), 'gamma': np.arange(0.1, 1, 0.1)},\n",
    "        {'kernel': ['sigmoid'], 'C': np.arange(0.1, 1, 0.1), 'gamma': np.arange(0.1, 1, 0.1),\n",
    "         'coef0': [0, 1, 2, 3, 4, 5]}\n",
    "    ]\n",
    "    clf = best_estimator(clf, parameters, x_all, y_all)\n",
    "\n",
    "    scores = cross_val_score(clf, x_all, y_all, cv=n_cv, scoring=\"accuracy\")\n",
    "\n",
    "    print \"Acurácia SVC ({}-Fold): {:.2f}\\n\".format(n_cv, scores.mean())\n",
    "\n",
    "    # GaussianNB\n",
    "    scores = cross_val_score(GaussianNB(), x_all, y_all, cv=n_cv, scoring=\"accuracy\")\n",
    "    print \"Acurácia GNB ({}-Fold): {:.2f}\\n\".format(n_cv, scores.mean())\n",
    "\n",
    "    # DecisionTree\n",
    "    clf = DecisionTreeClassifier(random_state=1)\n",
    "    parameters = [\n",
    "        {'max_depth': np.arange(2, 10, 1)}\n",
    "    ]\n",
    "    clf = best_estimator(clf, parameters, x_all, y_all)\n",
    "    scores = cross_val_score(clf, x_all, y_all, cv=n_cv, scoring=\"accuracy\")\n",
    "    print \"Acurácia DTC ({}-Fold): {:.2f}\\n\".format(n_cv, scores.mean())\n",
    "\n",
    "    # AdaBoost\n",
    "    scores = cross_val_score(AdaBoostClassifier(random_state=1), x_all, y_all, cv=n_cv, scoring=\"accuracy\")\n",
    "    print \"Acurácia ABC ({}-Fold): {:.2f}\\n\".format(n_cv, scores.mean())"
   ]
  },
  {
   "cell_type": "markdown",
   "metadata": {},
   "source": [
    "### Conferindo o resultado\n",
    "Escrevemos todas as funções necessárias para o projeto. Vamos testar e ver o resultado:"
   ]
  },
  {
   "cell_type": "code",
   "execution_count": 13,
   "metadata": {
    "collapsed": false
   },
   "outputs": [
    {
     "name": "stdout",
     "output_type": "stream",
     "text": [
      "Melhores parametros: {'kernel': 'linear', 'C': 0.90000000000000002}\n",
      "Acurácia SVC (9-Fold): 0.63\n",
      "\n",
      "Acurácia GNB (9-Fold): 0.51\n",
      "\n",
      "Melhores parametros: {'max_depth': 4}\n",
      "Acurácia DTC (9-Fold): 0.49\n",
      "\n",
      "Acurácia ABC (9-Fold): 0.34\n",
      "\n"
     ]
    }
   ],
   "source": [
    "x_all, y_all = get_chord_paths_and_labels()\n",
    "\n",
    "x_all = get_features(x_all)\n",
    "cross_validation_score(x_all, y_all, 9)"
   ]
  },
  {
   "cell_type": "markdown",
   "metadata": {},
   "source": [
    "SVM foi o modelo que obteve maior acurácia.\n",
    "\n",
    "A quantidade de subconjuntos utilizados na validação cruzada (9) foi definida ao percorrer um laço, de dois a doze, e comparar a acurácia obtida em cada iteração."
   ]
  }
 ],
 "metadata": {
  "anaconda-cloud": {},
  "kernelspec": {
   "display_name": "Python [default]",
   "language": "python",
   "name": "python2"
  },
  "language_info": {
   "codemirror_mode": {
    "name": "ipython",
    "version": 2
   },
   "file_extension": ".py",
   "mimetype": "text/x-python",
   "name": "python",
   "nbconvert_exporter": "python",
   "pygments_lexer": "ipython2",
   "version": "2.7.12"
  }
 },
 "nbformat": 4,
 "nbformat_minor": 1
}
